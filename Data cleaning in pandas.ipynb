{
 "cells": [
  {
   "cell_type": "code",
   "execution_count": 1,
   "id": "ddde3d80",
   "metadata": {},
   "outputs": [],
   "source": [
    "import numpy as np \n",
    "import pandas as pd\n"
   ]
  },
  {
   "cell_type": "code",
   "execution_count": 2,
   "id": "4c6fea57",
   "metadata": {},
   "outputs": [],
   "source": [
    "dic1 = {\n",
    "    \n",
    "    'Name': ['Alice', 'Bob', 'Charlie'],\n",
    "    'marks': [92,56,45],\n",
    "    'city': ['rampus', 'kolkata', 'Chehe']\n",
    "}\n"
   ]
  },
  {
   "cell_type": "code",
   "execution_count": 3,
   "id": "990fc2ed",
   "metadata": {},
   "outputs": [],
   "source": [
    "df  = pd.DataFrame(dic1)"
   ]
  },
  {
   "cell_type": "code",
   "execution_count": 4,
   "id": "7559e5b5",
   "metadata": {},
   "outputs": [
    {
     "data": {
      "text/html": [
       "<div>\n",
       "<style scoped>\n",
       "    .dataframe tbody tr th:only-of-type {\n",
       "        vertical-align: middle;\n",
       "    }\n",
       "\n",
       "    .dataframe tbody tr th {\n",
       "        vertical-align: top;\n",
       "    }\n",
       "\n",
       "    .dataframe thead th {\n",
       "        text-align: right;\n",
       "    }\n",
       "</style>\n",
       "<table border=\"1\" class=\"dataframe\">\n",
       "  <thead>\n",
       "    <tr style=\"text-align: right;\">\n",
       "      <th></th>\n",
       "      <th>Name</th>\n",
       "      <th>marks</th>\n",
       "      <th>city</th>\n",
       "    </tr>\n",
       "  </thead>\n",
       "  <tbody>\n",
       "    <tr>\n",
       "      <th>0</th>\n",
       "      <td>Alice</td>\n",
       "      <td>92</td>\n",
       "      <td>rampus</td>\n",
       "    </tr>\n",
       "    <tr>\n",
       "      <th>1</th>\n",
       "      <td>Bob</td>\n",
       "      <td>56</td>\n",
       "      <td>kolkata</td>\n",
       "    </tr>\n",
       "    <tr>\n",
       "      <th>2</th>\n",
       "      <td>Charlie</td>\n",
       "      <td>45</td>\n",
       "      <td>Chehe</td>\n",
       "    </tr>\n",
       "  </tbody>\n",
       "</table>\n",
       "</div>"
      ],
      "text/plain": [
       "      Name  marks     city\n",
       "0    Alice     92   rampus\n",
       "1      Bob     56  kolkata\n",
       "2  Charlie     45    Chehe"
      ]
     },
     "execution_count": 4,
     "metadata": {},
     "output_type": "execute_result"
    }
   ],
   "source": [
    "df"
   ]
  },
  {
   "cell_type": "code",
   "execution_count": 5,
   "id": "768e3013",
   "metadata": {},
   "outputs": [],
   "source": [
    "df.to_csv(\"friend.csv\")"
   ]
  },
  {
   "cell_type": "code",
   "execution_count": 6,
   "id": "5ee8b9b9",
   "metadata": {},
   "outputs": [],
   "source": [
    "df.to_csv(\"friends_index_false.csv\", index=False)"
   ]
  },
  {
   "cell_type": "code",
   "execution_count": 7,
   "id": "c7e54b62",
   "metadata": {},
   "outputs": [
    {
     "data": {
      "text/html": [
       "<div>\n",
       "<style scoped>\n",
       "    .dataframe tbody tr th:only-of-type {\n",
       "        vertical-align: middle;\n",
       "    }\n",
       "\n",
       "    .dataframe tbody tr th {\n",
       "        vertical-align: top;\n",
       "    }\n",
       "\n",
       "    .dataframe thead th {\n",
       "        text-align: right;\n",
       "    }\n",
       "</style>\n",
       "<table border=\"1\" class=\"dataframe\">\n",
       "  <thead>\n",
       "    <tr style=\"text-align: right;\">\n",
       "      <th></th>\n",
       "      <th>Name</th>\n",
       "      <th>marks</th>\n",
       "      <th>city</th>\n",
       "    </tr>\n",
       "  </thead>\n",
       "  <tbody>\n",
       "    <tr>\n",
       "      <th>0</th>\n",
       "      <td>Alice</td>\n",
       "      <td>92</td>\n",
       "      <td>rampus</td>\n",
       "    </tr>\n",
       "    <tr>\n",
       "      <th>1</th>\n",
       "      <td>Bob</td>\n",
       "      <td>56</td>\n",
       "      <td>kolkata</td>\n",
       "    </tr>\n",
       "  </tbody>\n",
       "</table>\n",
       "</div>"
      ],
      "text/plain": [
       "    Name  marks     city\n",
       "0  Alice     92   rampus\n",
       "1    Bob     56  kolkata"
      ]
     },
     "execution_count": 7,
     "metadata": {},
     "output_type": "execute_result"
    }
   ],
   "source": [
    "df.head(2)"
   ]
  },
  {
   "cell_type": "code",
   "execution_count": 8,
   "id": "dfee49b7",
   "metadata": {},
   "outputs": [
    {
     "data": {
      "text/html": [
       "<div>\n",
       "<style scoped>\n",
       "    .dataframe tbody tr th:only-of-type {\n",
       "        vertical-align: middle;\n",
       "    }\n",
       "\n",
       "    .dataframe tbody tr th {\n",
       "        vertical-align: top;\n",
       "    }\n",
       "\n",
       "    .dataframe thead th {\n",
       "        text-align: right;\n",
       "    }\n",
       "</style>\n",
       "<table border=\"1\" class=\"dataframe\">\n",
       "  <thead>\n",
       "    <tr style=\"text-align: right;\">\n",
       "      <th></th>\n",
       "      <th>Name</th>\n",
       "      <th>marks</th>\n",
       "      <th>city</th>\n",
       "    </tr>\n",
       "  </thead>\n",
       "  <tbody>\n",
       "    <tr>\n",
       "      <th>2</th>\n",
       "      <td>Charlie</td>\n",
       "      <td>45</td>\n",
       "      <td>Chehe</td>\n",
       "    </tr>\n",
       "  </tbody>\n",
       "</table>\n",
       "</div>"
      ],
      "text/plain": [
       "      Name  marks   city\n",
       "2  Charlie     45  Chehe"
      ]
     },
     "execution_count": 8,
     "metadata": {},
     "output_type": "execute_result"
    }
   ],
   "source": [
    "df.tail(1)"
   ]
  },
  {
   "cell_type": "code",
   "execution_count": 9,
   "id": "cd14229b",
   "metadata": {},
   "outputs": [
    {
     "data": {
      "text/html": [
       "<div>\n",
       "<style scoped>\n",
       "    .dataframe tbody tr th:only-of-type {\n",
       "        vertical-align: middle;\n",
       "    }\n",
       "\n",
       "    .dataframe tbody tr th {\n",
       "        vertical-align: top;\n",
       "    }\n",
       "\n",
       "    .dataframe thead th {\n",
       "        text-align: right;\n",
       "    }\n",
       "</style>\n",
       "<table border=\"1\" class=\"dataframe\">\n",
       "  <thead>\n",
       "    <tr style=\"text-align: right;\">\n",
       "      <th></th>\n",
       "      <th>marks</th>\n",
       "    </tr>\n",
       "  </thead>\n",
       "  <tbody>\n",
       "    <tr>\n",
       "      <th>count</th>\n",
       "      <td>3.000000</td>\n",
       "    </tr>\n",
       "    <tr>\n",
       "      <th>mean</th>\n",
       "      <td>64.333333</td>\n",
       "    </tr>\n",
       "    <tr>\n",
       "      <th>std</th>\n",
       "      <td>24.583192</td>\n",
       "    </tr>\n",
       "    <tr>\n",
       "      <th>min</th>\n",
       "      <td>45.000000</td>\n",
       "    </tr>\n",
       "    <tr>\n",
       "      <th>25%</th>\n",
       "      <td>50.500000</td>\n",
       "    </tr>\n",
       "    <tr>\n",
       "      <th>50%</th>\n",
       "      <td>56.000000</td>\n",
       "    </tr>\n",
       "    <tr>\n",
       "      <th>75%</th>\n",
       "      <td>74.000000</td>\n",
       "    </tr>\n",
       "    <tr>\n",
       "      <th>max</th>\n",
       "      <td>92.000000</td>\n",
       "    </tr>\n",
       "  </tbody>\n",
       "</table>\n",
       "</div>"
      ],
      "text/plain": [
       "           marks\n",
       "count   3.000000\n",
       "mean   64.333333\n",
       "std    24.583192\n",
       "min    45.000000\n",
       "25%    50.500000\n",
       "50%    56.000000\n",
       "75%    74.000000\n",
       "max    92.000000"
      ]
     },
     "execution_count": 9,
     "metadata": {},
     "output_type": "execute_result"
    }
   ],
   "source": [
    "df.describe()"
   ]
  },
  {
   "cell_type": "code",
   "execution_count": 10,
   "id": "7b7d6eee",
   "metadata": {},
   "outputs": [],
   "source": [
    "harry = pd.read_csv('harry.csv', delimiter=';')"
   ]
  },
  {
   "cell_type": "code",
   "execution_count": 11,
   "id": "f3a3f342",
   "metadata": {},
   "outputs": [
    {
     "data": {
      "text/html": [
       "<div>\n",
       "<style scoped>\n",
       "    .dataframe tbody tr th:only-of-type {\n",
       "        vertical-align: middle;\n",
       "    }\n",
       "\n",
       "    .dataframe tbody tr th {\n",
       "        vertical-align: top;\n",
       "    }\n",
       "\n",
       "    .dataframe thead th {\n",
       "        text-align: right;\n",
       "    }\n",
       "</style>\n",
       "<table border=\"1\" class=\"dataframe\">\n",
       "  <thead>\n",
       "    <tr style=\"text-align: right;\">\n",
       "      <th></th>\n",
       "      <th>Train no</th>\n",
       "      <th>speed</th>\n",
       "      <th>city</th>\n",
       "    </tr>\n",
       "  </thead>\n",
       "  <tbody>\n",
       "    <tr>\n",
       "      <th>0</th>\n",
       "      <td>harry</td>\n",
       "      <td>12</td>\n",
       "      <td>rampur</td>\n",
       "    </tr>\n",
       "    <tr>\n",
       "      <th>1</th>\n",
       "      <td>rohan</td>\n",
       "      <td>32</td>\n",
       "      <td>kolkata</td>\n",
       "    </tr>\n",
       "    <tr>\n",
       "      <th>2</th>\n",
       "      <td>skillf</td>\n",
       "      <td>24</td>\n",
       "      <td>bareilly</td>\n",
       "    </tr>\n",
       "    <tr>\n",
       "      <th>3</th>\n",
       "      <td>shubh</td>\n",
       "      <td>14</td>\n",
       "      <td>antiantes</td>\n",
       "    </tr>\n",
       "  </tbody>\n",
       "</table>\n",
       "</div>"
      ],
      "text/plain": [
       "  Train no  speed       city\n",
       "0    harry     12     rampur\n",
       "1    rohan     32    kolkata\n",
       "2   skillf     24   bareilly\n",
       "3    shubh     14  antiantes"
      ]
     },
     "execution_count": 11,
     "metadata": {},
     "output_type": "execute_result"
    }
   ],
   "source": [
    "harry"
   ]
  },
  {
   "cell_type": "code",
   "execution_count": 12,
   "id": "9d84f4ca",
   "metadata": {},
   "outputs": [
    {
     "name": "stderr",
     "output_type": "stream",
     "text": [
      "/var/folders/nr/gk1ym8kd65ld4t_zc5wp71p40000gn/T/ipykernel_58763/259263009.py:1: SettingWithCopyWarning: \n",
      "A value is trying to be set on a copy of a slice from a DataFrame\n",
      "\n",
      "See the caveats in the documentation: https://pandas.pydata.org/pandas-docs/stable/user_guide/indexing.html#returning-a-view-versus-a-copy\n",
      "  harry['speed'][0]= 100\n"
     ]
    }
   ],
   "source": [
    "harry['speed'][0]= 100"
   ]
  },
  {
   "cell_type": "code",
   "execution_count": 13,
   "id": "b93eff4d",
   "metadata": {},
   "outputs": [
    {
     "data": {
      "text/html": [
       "<div>\n",
       "<style scoped>\n",
       "    .dataframe tbody tr th:only-of-type {\n",
       "        vertical-align: middle;\n",
       "    }\n",
       "\n",
       "    .dataframe tbody tr th {\n",
       "        vertical-align: top;\n",
       "    }\n",
       "\n",
       "    .dataframe thead th {\n",
       "        text-align: right;\n",
       "    }\n",
       "</style>\n",
       "<table border=\"1\" class=\"dataframe\">\n",
       "  <thead>\n",
       "    <tr style=\"text-align: right;\">\n",
       "      <th></th>\n",
       "      <th>Train no</th>\n",
       "      <th>speed</th>\n",
       "      <th>city</th>\n",
       "    </tr>\n",
       "  </thead>\n",
       "  <tbody>\n",
       "    <tr>\n",
       "      <th>0</th>\n",
       "      <td>harry</td>\n",
       "      <td>100</td>\n",
       "      <td>rampur</td>\n",
       "    </tr>\n",
       "    <tr>\n",
       "      <th>1</th>\n",
       "      <td>rohan</td>\n",
       "      <td>32</td>\n",
       "      <td>kolkata</td>\n",
       "    </tr>\n",
       "    <tr>\n",
       "      <th>2</th>\n",
       "      <td>skillf</td>\n",
       "      <td>24</td>\n",
       "      <td>bareilly</td>\n",
       "    </tr>\n",
       "    <tr>\n",
       "      <th>3</th>\n",
       "      <td>shubh</td>\n",
       "      <td>14</td>\n",
       "      <td>antiantes</td>\n",
       "    </tr>\n",
       "  </tbody>\n",
       "</table>\n",
       "</div>"
      ],
      "text/plain": [
       "  Train no  speed       city\n",
       "0    harry    100     rampur\n",
       "1    rohan     32    kolkata\n",
       "2   skillf     24   bareilly\n",
       "3    shubh     14  antiantes"
      ]
     },
     "execution_count": 13,
     "metadata": {},
     "output_type": "execute_result"
    }
   ],
   "source": [
    "harry"
   ]
  },
  {
   "cell_type": "code",
   "execution_count": 14,
   "id": "2248e9e8",
   "metadata": {},
   "outputs": [],
   "source": [
    "harry.to_csv('harry1.csv')"
   ]
  },
  {
   "cell_type": "code",
   "execution_count": 15,
   "id": "7f04dd8c",
   "metadata": {},
   "outputs": [],
   "source": [
    "dic2 = {\n",
    "    \n",
    "    \"name\":['ayush', 'chalise','raja'],\n",
    "    \"rollno\":[1,2,3],\n",
    "    \"class\": ['seven','eight','nine']\n",
    "\n",
    "    \n",
    "}"
   ]
  },
  {
   "cell_type": "code",
   "execution_count": 16,
   "id": "9c82bb99",
   "metadata": {},
   "outputs": [],
   "source": [
    "ac = pd.DataFrame(dic2)"
   ]
  },
  {
   "cell_type": "code",
   "execution_count": 17,
   "id": "15b02b49",
   "metadata": {},
   "outputs": [
    {
     "data": {
      "text/html": [
       "<div>\n",
       "<style scoped>\n",
       "    .dataframe tbody tr th:only-of-type {\n",
       "        vertical-align: middle;\n",
       "    }\n",
       "\n",
       "    .dataframe tbody tr th {\n",
       "        vertical-align: top;\n",
       "    }\n",
       "\n",
       "    .dataframe thead th {\n",
       "        text-align: right;\n",
       "    }\n",
       "</style>\n",
       "<table border=\"1\" class=\"dataframe\">\n",
       "  <thead>\n",
       "    <tr style=\"text-align: right;\">\n",
       "      <th></th>\n",
       "      <th>name</th>\n",
       "      <th>rollno</th>\n",
       "      <th>class</th>\n",
       "    </tr>\n",
       "  </thead>\n",
       "  <tbody>\n",
       "    <tr>\n",
       "      <th>0</th>\n",
       "      <td>ayush</td>\n",
       "      <td>1</td>\n",
       "      <td>seven</td>\n",
       "    </tr>\n",
       "    <tr>\n",
       "      <th>1</th>\n",
       "      <td>chalise</td>\n",
       "      <td>2</td>\n",
       "      <td>eight</td>\n",
       "    </tr>\n",
       "    <tr>\n",
       "      <th>2</th>\n",
       "      <td>raja</td>\n",
       "      <td>3</td>\n",
       "      <td>nine</td>\n",
       "    </tr>\n",
       "  </tbody>\n",
       "</table>\n",
       "</div>"
      ],
      "text/plain": [
       "      name  rollno  class\n",
       "0    ayush       1  seven\n",
       "1  chalise       2  eight\n",
       "2     raja       3   nine"
      ]
     },
     "execution_count": 17,
     "metadata": {},
     "output_type": "execute_result"
    }
   ],
   "source": [
    "ac"
   ]
  },
  {
   "cell_type": "code",
   "execution_count": 18,
   "id": "9c7aee93",
   "metadata": {},
   "outputs": [
    {
     "data": {
      "text/plain": [
       "1"
      ]
     },
     "execution_count": 18,
     "metadata": {},
     "output_type": "execute_result"
    }
   ],
   "source": [
    "ac['rollno'][0]"
   ]
  },
  {
   "cell_type": "code",
   "execution_count": 19,
   "id": "a7617ef2",
   "metadata": {},
   "outputs": [
    {
     "name": "stderr",
     "output_type": "stream",
     "text": [
      "/var/folders/nr/gk1ym8kd65ld4t_zc5wp71p40000gn/T/ipykernel_58763/190525654.py:1: SettingWithCopyWarning: \n",
      "A value is trying to be set on a copy of a slice from a DataFrame\n",
      "\n",
      "See the caveats in the documentation: https://pandas.pydata.org/pandas-docs/stable/user_guide/indexing.html#returning-a-view-versus-a-copy\n",
      "  ac['rollno'][0] = 158\n"
     ]
    }
   ],
   "source": [
    "ac['rollno'][0] = 158"
   ]
  },
  {
   "cell_type": "code",
   "execution_count": 20,
   "id": "1abbbff0",
   "metadata": {},
   "outputs": [
    {
     "data": {
      "text/html": [
       "<div>\n",
       "<style scoped>\n",
       "    .dataframe tbody tr th:only-of-type {\n",
       "        vertical-align: middle;\n",
       "    }\n",
       "\n",
       "    .dataframe tbody tr th {\n",
       "        vertical-align: top;\n",
       "    }\n",
       "\n",
       "    .dataframe thead th {\n",
       "        text-align: right;\n",
       "    }\n",
       "</style>\n",
       "<table border=\"1\" class=\"dataframe\">\n",
       "  <thead>\n",
       "    <tr style=\"text-align: right;\">\n",
       "      <th></th>\n",
       "      <th>name</th>\n",
       "      <th>rollno</th>\n",
       "      <th>class</th>\n",
       "    </tr>\n",
       "  </thead>\n",
       "  <tbody>\n",
       "    <tr>\n",
       "      <th>0</th>\n",
       "      <td>ayush</td>\n",
       "      <td>158</td>\n",
       "      <td>seven</td>\n",
       "    </tr>\n",
       "    <tr>\n",
       "      <th>1</th>\n",
       "      <td>chalise</td>\n",
       "      <td>2</td>\n",
       "      <td>eight</td>\n",
       "    </tr>\n",
       "    <tr>\n",
       "      <th>2</th>\n",
       "      <td>raja</td>\n",
       "      <td>3</td>\n",
       "      <td>nine</td>\n",
       "    </tr>\n",
       "  </tbody>\n",
       "</table>\n",
       "</div>"
      ],
      "text/plain": [
       "      name  rollno  class\n",
       "0    ayush     158  seven\n",
       "1  chalise       2  eight\n",
       "2     raja       3   nine"
      ]
     },
     "execution_count": 20,
     "metadata": {},
     "output_type": "execute_result"
    }
   ],
   "source": [
    "ac"
   ]
  },
  {
   "cell_type": "code",
   "execution_count": 21,
   "id": "5277bc22",
   "metadata": {},
   "outputs": [],
   "source": [
    "#fixed with other from top\n",
    "harry.to_csv('harry1.csv')"
   ]
  },
  {
   "cell_type": "code",
   "execution_count": 22,
   "id": "d37fed02",
   "metadata": {},
   "outputs": [
    {
     "data": {
      "text/html": [
       "<div>\n",
       "<style scoped>\n",
       "    .dataframe tbody tr th:only-of-type {\n",
       "        vertical-align: middle;\n",
       "    }\n",
       "\n",
       "    .dataframe tbody tr th {\n",
       "        vertical-align: top;\n",
       "    }\n",
       "\n",
       "    .dataframe thead th {\n",
       "        text-align: right;\n",
       "    }\n",
       "</style>\n",
       "<table border=\"1\" class=\"dataframe\">\n",
       "  <thead>\n",
       "    <tr style=\"text-align: right;\">\n",
       "      <th></th>\n",
       "      <th>Train no</th>\n",
       "      <th>speed</th>\n",
       "      <th>city</th>\n",
       "    </tr>\n",
       "  </thead>\n",
       "  <tbody>\n",
       "    <tr>\n",
       "      <th>0</th>\n",
       "      <td>harry</td>\n",
       "      <td>100</td>\n",
       "      <td>rampur</td>\n",
       "    </tr>\n",
       "    <tr>\n",
       "      <th>1</th>\n",
       "      <td>rohan</td>\n",
       "      <td>32</td>\n",
       "      <td>kolkata</td>\n",
       "    </tr>\n",
       "    <tr>\n",
       "      <th>2</th>\n",
       "      <td>skillf</td>\n",
       "      <td>24</td>\n",
       "      <td>bareilly</td>\n",
       "    </tr>\n",
       "    <tr>\n",
       "      <th>3</th>\n",
       "      <td>shubh</td>\n",
       "      <td>14</td>\n",
       "      <td>antiantes</td>\n",
       "    </tr>\n",
       "  </tbody>\n",
       "</table>\n",
       "</div>"
      ],
      "text/plain": [
       "  Train no  speed       city\n",
       "0    harry    100     rampur\n",
       "1    rohan     32    kolkata\n",
       "2   skillf     24   bareilly\n",
       "3    shubh     14  antiantes"
      ]
     },
     "execution_count": 22,
     "metadata": {},
     "output_type": "execute_result"
    }
   ],
   "source": [
    "harry\n"
   ]
  },
  {
   "cell_type": "code",
   "execution_count": null,
   "id": "5e57e88c",
   "metadata": {},
   "outputs": [],
   "source": [
    " "
   ]
  },
  {
   "cell_type": "code",
   "execution_count": 23,
   "id": "8d35391a",
   "metadata": {},
   "outputs": [
    {
     "data": {
      "text/html": [
       "<div>\n",
       "<style scoped>\n",
       "    .dataframe tbody tr th:only-of-type {\n",
       "        vertical-align: middle;\n",
       "    }\n",
       "\n",
       "    .dataframe tbody tr th {\n",
       "        vertical-align: top;\n",
       "    }\n",
       "\n",
       "    .dataframe thead th {\n",
       "        text-align: right;\n",
       "    }\n",
       "</style>\n",
       "<table border=\"1\" class=\"dataframe\">\n",
       "  <thead>\n",
       "    <tr style=\"text-align: right;\">\n",
       "      <th></th>\n",
       "      <th>Train no</th>\n",
       "      <th>speed</th>\n",
       "      <th>city</th>\n",
       "    </tr>\n",
       "  </thead>\n",
       "  <tbody>\n",
       "    <tr>\n",
       "      <th>0</th>\n",
       "      <td>harry</td>\n",
       "      <td>100</td>\n",
       "      <td>rampur</td>\n",
       "    </tr>\n",
       "    <tr>\n",
       "      <th>1</th>\n",
       "      <td>rohan</td>\n",
       "      <td>32</td>\n",
       "      <td>kolkata</td>\n",
       "    </tr>\n",
       "    <tr>\n",
       "      <th>2</th>\n",
       "      <td>skillf</td>\n",
       "      <td>24</td>\n",
       "      <td>bareilly</td>\n",
       "    </tr>\n",
       "    <tr>\n",
       "      <th>3</th>\n",
       "      <td>shubh</td>\n",
       "      <td>14</td>\n",
       "      <td>antiantes</td>\n",
       "    </tr>\n",
       "  </tbody>\n",
       "</table>\n",
       "</div>"
      ],
      "text/plain": [
       "  Train no  speed       city\n",
       "0    harry    100     rampur\n",
       "1    rohan     32    kolkata\n",
       "2   skillf     24   bareilly\n",
       "3    shubh     14  antiantes"
      ]
     },
     "execution_count": 23,
     "metadata": {},
     "output_type": "execute_result"
    }
   ],
   "source": [
    "harry"
   ]
  },
  {
   "cell_type": "code",
   "execution_count": 24,
   "id": "fbe5ee3a",
   "metadata": {},
   "outputs": [],
   "source": [
    "harry.index= ['first', 2 , 'third', 4]"
   ]
  },
  {
   "cell_type": "code",
   "execution_count": 25,
   "id": "333576f5",
   "metadata": {},
   "outputs": [
    {
     "data": {
      "text/html": [
       "<div>\n",
       "<style scoped>\n",
       "    .dataframe tbody tr th:only-of-type {\n",
       "        vertical-align: middle;\n",
       "    }\n",
       "\n",
       "    .dataframe tbody tr th {\n",
       "        vertical-align: top;\n",
       "    }\n",
       "\n",
       "    .dataframe thead th {\n",
       "        text-align: right;\n",
       "    }\n",
       "</style>\n",
       "<table border=\"1\" class=\"dataframe\">\n",
       "  <thead>\n",
       "    <tr style=\"text-align: right;\">\n",
       "      <th></th>\n",
       "      <th>Train no</th>\n",
       "      <th>speed</th>\n",
       "      <th>city</th>\n",
       "    </tr>\n",
       "  </thead>\n",
       "  <tbody>\n",
       "    <tr>\n",
       "      <th>first</th>\n",
       "      <td>harry</td>\n",
       "      <td>100</td>\n",
       "      <td>rampur</td>\n",
       "    </tr>\n",
       "    <tr>\n",
       "      <th>2</th>\n",
       "      <td>rohan</td>\n",
       "      <td>32</td>\n",
       "      <td>kolkata</td>\n",
       "    </tr>\n",
       "    <tr>\n",
       "      <th>third</th>\n",
       "      <td>skillf</td>\n",
       "      <td>24</td>\n",
       "      <td>bareilly</td>\n",
       "    </tr>\n",
       "    <tr>\n",
       "      <th>4</th>\n",
       "      <td>shubh</td>\n",
       "      <td>14</td>\n",
       "      <td>antiantes</td>\n",
       "    </tr>\n",
       "  </tbody>\n",
       "</table>\n",
       "</div>"
      ],
      "text/plain": [
       "      Train no  speed       city\n",
       "first    harry    100     rampur\n",
       "2        rohan     32    kolkata\n",
       "third   skillf     24   bareilly\n",
       "4        shubh     14  antiantes"
      ]
     },
     "execution_count": 25,
     "metadata": {},
     "output_type": "execute_result"
    }
   ],
   "source": [
    "harry"
   ]
  },
  {
   "cell_type": "code",
   "execution_count": 28,
   "id": "2a551af8",
   "metadata": {},
   "outputs": [],
   "source": [
    "ser = pd.Series(np.random.rand(25))"
   ]
  },
  {
   "cell_type": "code",
   "execution_count": 29,
   "id": "a74d574c",
   "metadata": {},
   "outputs": [
    {
     "data": {
      "text/plain": [
       "0     0.456812\n",
       "1     0.647749\n",
       "2     0.469859\n",
       "3     0.631251\n",
       "4     0.003234\n",
       "5     0.276168\n",
       "6     0.565080\n",
       "7     0.411178\n",
       "8     0.045145\n",
       "9     0.795505\n",
       "10    0.573691\n",
       "11    0.663724\n",
       "12    0.394164\n",
       "13    0.697648\n",
       "14    0.106723\n",
       "15    0.978294\n",
       "16    0.100935\n",
       "17    0.140028\n",
       "18    0.151068\n",
       "19    0.089439\n",
       "20    0.952833\n",
       "21    0.646496\n",
       "22    0.694971\n",
       "23    0.572529\n",
       "24    0.771813\n",
       "dtype: float64"
      ]
     },
     "execution_count": 29,
     "metadata": {},
     "output_type": "execute_result"
    }
   ],
   "source": [
    "ser"
   ]
  },
  {
   "cell_type": "code",
   "execution_count": 30,
   "id": "ff7b9fb4",
   "metadata": {},
   "outputs": [
    {
     "data": {
      "text/plain": [
       "pandas.core.series.Series"
      ]
     },
     "execution_count": 30,
     "metadata": {},
     "output_type": "execute_result"
    }
   ],
   "source": [
    "type(ser)"
   ]
  },
  {
   "cell_type": "code",
   "execution_count": 33,
   "id": "79dd46b3",
   "metadata": {},
   "outputs": [],
   "source": [
    "newdf = pd.DataFrame(np.random.rand(226,7), index=np.arange(226))"
   ]
  },
  {
   "cell_type": "code",
   "execution_count": 38,
   "id": "9a30baa2",
   "metadata": {},
   "outputs": [
    {
     "data": {
      "text/html": [
       "<div>\n",
       "<style scoped>\n",
       "    .dataframe tbody tr th:only-of-type {\n",
       "        vertical-align: middle;\n",
       "    }\n",
       "\n",
       "    .dataframe tbody tr th {\n",
       "        vertical-align: top;\n",
       "    }\n",
       "\n",
       "    .dataframe thead th {\n",
       "        text-align: right;\n",
       "    }\n",
       "</style>\n",
       "<table border=\"1\" class=\"dataframe\">\n",
       "  <thead>\n",
       "    <tr style=\"text-align: right;\">\n",
       "      <th></th>\n",
       "      <th>0</th>\n",
       "      <th>1</th>\n",
       "      <th>2</th>\n",
       "      <th>3</th>\n",
       "      <th>4</th>\n",
       "      <th>5</th>\n",
       "      <th>6</th>\n",
       "    </tr>\n",
       "  </thead>\n",
       "  <tbody>\n",
       "    <tr>\n",
       "      <th>0</th>\n",
       "      <td>0.150645</td>\n",
       "      <td>0.280140</td>\n",
       "      <td>0.761597</td>\n",
       "      <td>0.551455</td>\n",
       "      <td>0.410866</td>\n",
       "      <td>0.073635</td>\n",
       "      <td>0.849959</td>\n",
       "    </tr>\n",
       "    <tr>\n",
       "      <th>1</th>\n",
       "      <td>0.894601</td>\n",
       "      <td>0.611438</td>\n",
       "      <td>0.596625</td>\n",
       "      <td>0.687987</td>\n",
       "      <td>0.739962</td>\n",
       "      <td>0.754372</td>\n",
       "      <td>0.429594</td>\n",
       "    </tr>\n",
       "    <tr>\n",
       "      <th>2</th>\n",
       "      <td>0.493526</td>\n",
       "      <td>0.631785</td>\n",
       "      <td>0.815449</td>\n",
       "      <td>0.441285</td>\n",
       "      <td>0.418845</td>\n",
       "      <td>0.183874</td>\n",
       "      <td>0.979394</td>\n",
       "    </tr>\n",
       "    <tr>\n",
       "      <th>3</th>\n",
       "      <td>0.483610</td>\n",
       "      <td>0.601458</td>\n",
       "      <td>0.943187</td>\n",
       "      <td>0.467325</td>\n",
       "      <td>0.052006</td>\n",
       "      <td>0.028540</td>\n",
       "      <td>0.227013</td>\n",
       "    </tr>\n",
       "    <tr>\n",
       "      <th>4</th>\n",
       "      <td>0.967781</td>\n",
       "      <td>0.250716</td>\n",
       "      <td>0.482768</td>\n",
       "      <td>0.531281</td>\n",
       "      <td>0.240357</td>\n",
       "      <td>0.257921</td>\n",
       "      <td>0.982447</td>\n",
       "    </tr>\n",
       "  </tbody>\n",
       "</table>\n",
       "</div>"
      ],
      "text/plain": [
       "          0         1         2         3         4         5         6\n",
       "0  0.150645  0.280140  0.761597  0.551455  0.410866  0.073635  0.849959\n",
       "1  0.894601  0.611438  0.596625  0.687987  0.739962  0.754372  0.429594\n",
       "2  0.493526  0.631785  0.815449  0.441285  0.418845  0.183874  0.979394\n",
       "3  0.483610  0.601458  0.943187  0.467325  0.052006  0.028540  0.227013\n",
       "4  0.967781  0.250716  0.482768  0.531281  0.240357  0.257921  0.982447"
      ]
     },
     "execution_count": 38,
     "metadata": {},
     "output_type": "execute_result"
    }
   ],
   "source": [
    "newdf.head(5)"
   ]
  },
  {
   "cell_type": "code",
   "execution_count": 39,
   "id": "e3e9e09e",
   "metadata": {},
   "outputs": [
    {
     "data": {
      "text/plain": [
       "pandas.core.frame.DataFrame"
      ]
     },
     "execution_count": 39,
     "metadata": {},
     "output_type": "execute_result"
    }
   ],
   "source": [
    "type(newdf)"
   ]
  },
  {
   "cell_type": "code",
   "execution_count": null,
   "id": "b200a8c6",
   "metadata": {},
   "outputs": [],
   "source": []
  }
 ],
 "metadata": {
  "kernelspec": {
   "display_name": "Python 3 (ipykernel)",
   "language": "python",
   "name": "python3"
  },
  "language_info": {
   "codemirror_mode": {
    "name": "ipython",
    "version": 3
   },
   "file_extension": ".py",
   "mimetype": "text/x-python",
   "name": "python",
   "nbconvert_exporter": "python",
   "pygments_lexer": "ipython3",
   "version": "3.11.5"
  }
 },
 "nbformat": 4,
 "nbformat_minor": 5
}
